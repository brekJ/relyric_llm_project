{
 "cells": [
  {
   "cell_type": "code",
   "execution_count": 1,
   "metadata": {},
   "outputs": [],
   "source": [
    "import pandas as pd"
   ]
  },
  {
   "cell_type": "code",
   "execution_count": 2,
   "metadata": {},
   "outputs": [
    {
     "data": {
      "text/html": [
       "<div>\n",
       "<style scoped>\n",
       "    .dataframe tbody tr th:only-of-type {\n",
       "        vertical-align: middle;\n",
       "    }\n",
       "\n",
       "    .dataframe tbody tr th {\n",
       "        vertical-align: top;\n",
       "    }\n",
       "\n",
       "    .dataframe thead th {\n",
       "        text-align: right;\n",
       "    }\n",
       "</style>\n",
       "<table border=\"1\" class=\"dataframe\">\n",
       "  <thead>\n",
       "    <tr style=\"text-align: right;\">\n",
       "      <th></th>\n",
       "      <th>inputs</th>\n",
       "      <th>response</th>\n",
       "    </tr>\n",
       "  </thead>\n",
       "  <tbody>\n",
       "  </tbody>\n",
       "</table>\n",
       "</div>"
      ],
      "text/plain": [
       "Empty DataFrame\n",
       "Columns: [inputs, response]\n",
       "Index: []"
      ]
     },
     "execution_count": 2,
     "metadata": {},
     "output_type": "execute_result"
    }
   ],
   "source": [
    "tuning_df = pd.DataFrame(columns=['inputs', 'response'])\n",
    "tuning_df"
   ]
  },
  {
   "cell_type": "code",
   "execution_count": null,
   "metadata": {},
   "outputs": [],
   "source": [
    "input_lyrics = \"\"\"\n",
    "\"\"\"\n",
    "situation = \"\"\"\n",
    "\"\"\"\n",
    "lyric_template = f\"\"\"조건에 맞추어서 입력 가사를 출력 가사로 재작성하라.\n",
    "단, 상위 > 중위 > 하위 순으로 중요도가 존재한다.\n",
    "\n",
    "[상위 조건]\n",
    "-- 입력되는 상황에 어울리도록 작성하라\n",
    "-- 입력 가사와 출력 가사의 리듬 및 음절 수를 일치하라\n",
    "\n",
    "[중위 조건]\n",
    "-- 입력 가사의 리듬과 Rhyme을 유지하라\n",
    "-- 입력 가사의 단어의 음절과 강세, 발음을 고려하라\n",
    "-- 입력 가사와 동일한 단어를 사용할 수는 있지만 남발해서는 안된다.\n",
    "\n",
    "[하위 조건]\n",
    "-- 발음하기 쉽고, 노래부르기에 적합하도록 작성하라\n",
    "\n",
    "\n",
    "입력 가사: {input_lyrics} \n",
    "\n",
    "상황 : {situation}\n",
    "\n",
    "출력 가사: \"\"\"\n"
   ]
  }
 ],
 "metadata": {
  "kernelspec": {
   "display_name": "j_1",
   "language": "python",
   "name": "python3"
  },
  "language_info": {
   "codemirror_mode": {
    "name": "ipython",
    "version": 3
   },
   "file_extension": ".py",
   "mimetype": "text/x-python",
   "name": "python",
   "nbconvert_exporter": "python",
   "pygments_lexer": "ipython3",
   "version": "3.9.19"
  }
 },
 "nbformat": 4,
 "nbformat_minor": 2
}
